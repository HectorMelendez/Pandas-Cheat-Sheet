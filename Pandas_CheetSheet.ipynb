{
 "cells": [
  {
   "cell_type": "markdown",
   "id": "ccee2259-993b-4890-81bd-b8c0328bfd93",
   "metadata": {
    "jp-MarkdownHeadingCollapsed": true,
    "tags": []
   },
   "source": [
    "# **GUIDE: Python/Pandas (Most Used Functios)**\n",
    "### Data Analytics: Cheat Sheet\n",
    "By Hector Melendez <br>\n",
    "LinkedIn: https://www.linkedin.com/in/melendezriverahector/"
   ]
  },
  {
   "cell_type": "markdown",
   "id": "1523c090-81f2-490d-b8e0-0e0649d4ca90",
   "metadata": {},
   "source": [
    "# A. Import Packages"
   ]
  },
  {
   "cell_type": "code",
   "execution_count": null,
   "id": "3c7cbee0",
   "metadata": {},
   "outputs": [],
   "source": [
    "import pandas as pd   # Available through Anaconda"
   ]
  },
  {
   "cell_type": "markdown",
   "id": "378588ca",
   "metadata": {
    "tags": []
   },
   "source": [
    "---\n",
    "# B. Load/Read File (Dataframe)"
   ]
  },
  {
   "cell_type": "markdown",
   "id": "69b937e8-2274-4b2f-83b1-7f8f6b38dae8",
   "metadata": {},
   "source": [
    "If needed specific sheet within file, add the name as secondary paramenter:<br>\n",
    "_pd.read_excel('File_Name.xlxs', 'Sheet_Name')_"
   ]
  },
  {
   "cell_type": "markdown",
   "id": "6dbaa931-aa69-4cc1-904b-171c2be51af9",
   "metadata": {},
   "source": [
    "### B.1 Read Excel File\n",
    "See docs: https://pandas.pydata.org/docs/reference/api/pandas.read_excel.html"
   ]
  },
  {
   "cell_type": "code",
   "execution_count": null,
   "id": "b3462e0d",
   "metadata": {},
   "outputs": [],
   "source": [
    "dataframe = pd.read_excel('File_Name.xlsx')"
   ]
  },
  {
   "cell_type": "markdown",
   "id": "dd81ad81-d9e4-4af8-804a-920684cd3071",
   "metadata": {},
   "source": [
    "### B.2 Read CSV File\n",
    "See docs: https://pandas.pydata.org/docs/reference/api/pandas.read_csv.html?highlight=read_#pandas.read_csv"
   ]
  },
  {
   "cell_type": "code",
   "execution_count": null,
   "id": "5cad96cb-4c70-473b-b993-deeabbe597b3",
   "metadata": {},
   "outputs": [],
   "source": [
    "dataframe = pd.read_csv('File_Name.csv)"
   ]
  },
  {
   "cell_type": "markdown",
   "id": "7cf21467-defb-4869-b9c1-3b003f8978af",
   "metadata": {},
   "source": [
    "### B.3 Read JSON File"
   ]
  },
  {
   "cell_type": "code",
   "execution_count": null,
   "id": "f328fe2b-3307-4a7c-be6a-4d173281fcef",
   "metadata": {},
   "outputs": [],
   "source": [
    "dataframe = pd.read_json('File_Name.json')"
   ]
  },
  {
   "cell_type": "markdown",
   "id": "c32c339d-cb9e-43e7-8c61-a624cb0b01f7",
   "metadata": {},
   "source": [
    "### B.4 Read SQL File"
   ]
  },
  {
   "cell_type": "code",
   "execution_count": null,
   "id": "5039af2c-9ad2-4836-a5a5-e0d19e79a8e8",
   "metadata": {},
   "outputs": [],
   "source": [
    "dataframe = pd.read_sql('File_Name.sql')"
   ]
  },
  {
   "cell_type": "markdown",
   "id": "9cfb4768",
   "metadata": {},
   "source": [
    "---\n",
    "# C. Reading Dataframe\n",
    "If you need more rows pass the amount inside **.head(AMOUNT)**  or **.tail(AMOUNT)**"
   ]
  },
  {
   "cell_type": "markdown",
   "id": "8eb315bc-2ba5-4fd8-b7c6-932115eaa534",
   "metadata": {},
   "source": [
    "### C.1 Read Top 5 Rows"
   ]
  },
  {
   "cell_type": "code",
   "execution_count": null,
   "id": "a9105892",
   "metadata": {},
   "outputs": [],
   "source": [
    "dataframe.head()"
   ]
  },
  {
   "cell_type": "markdown",
   "id": "9731b917-de15-457e-ad0e-6f86d4844ded",
   "metadata": {},
   "source": [
    "### C.2 Read Bottom 5 Rows"
   ]
  },
  {
   "cell_type": "code",
   "execution_count": null,
   "id": "324489f3",
   "metadata": {},
   "outputs": [],
   "source": [
    "dataframe.tail()"
   ]
  },
  {
   "cell_type": "markdown",
   "id": "1588b618-0d55-4309-9833-6133e0e191ff",
   "metadata": {},
   "source": [
    "### C.3 Show Columns and Data Types"
   ]
  },
  {
   "cell_type": "code",
   "execution_count": null,
   "id": "ae567b38-0f6f-487a-9031-0871ef51c011",
   "metadata": {},
   "outputs": [],
   "source": [
    "dataframe.columns  # All columns"
   ]
  },
  {
   "cell_type": "code",
   "execution_count": null,
   "id": "a9230d3e-5db7-4141-8a97-6c45f66f041f",
   "metadata": {},
   "outputs": [],
   "source": [
    "dataframe.dtypes   # All data types"
   ]
  },
  {
   "cell_type": "markdown",
   "id": "0b1855cd-67f2-4a73-bac3-b6d116f834b4",
   "metadata": {
    "tags": []
   },
   "source": [
    "---\n",
    "# D. Summary Statistics (Understading The Data)"
   ]
  },
  {
   "cell_type": "markdown",
   "id": "9a4adc38-c08d-4559-a441-5789044b7d9c",
   "metadata": {},
   "source": [
    "It shows some descriptive statistics of the entire dataframe.<br><br>\n",
    "\n",
    "For **numeric data**, the result’s index will include _count, mean, std, min, max_ as well as _lower, 50 and upper percentiles._<br>\n",
    "For **non-numeric data** (e.g. strings or timestamps), the result’s index will include _count, unique, top, and freq_."
   ]
  },
  {
   "cell_type": "markdown",
   "id": "95a6058c-f3d4-449e-9ac5-68c929550946",
   "metadata": {},
   "source": [
    "### D.1 Describe (Summary)"
   ]
  },
  {
   "cell_type": "code",
   "execution_count": null,
   "id": "5f4a002f-6336-4590-9468-2c7d1161b8e1",
   "metadata": {},
   "outputs": [],
   "source": [
    "# Summarize numeric data only\n",
    "\n",
    "dataframe.describe()"
   ]
  },
  {
   "cell_type": "code",
   "execution_count": null,
   "id": "d065bd6f-3cfa-4c5e-92fe-9066f1efe517",
   "metadata": {},
   "outputs": [],
   "source": [
    "# Summarize non-numeric data only\n",
    "\n",
    "dataframe.describe(include='object')"
   ]
  },
  {
   "cell_type": "markdown",
   "id": "c1093c74-eb32-4ace-a387-987c1141094d",
   "metadata": {},
   "source": [
    "---\n",
    "# E. Filtering"
   ]
  },
  {
   "cell_type": "markdown",
   "id": "91a5d1db-53b6-4476-af99-58aa57b69fc4",
   "metadata": {},
   "source": [
    "To filter or get a specific columns just call the **exact name** of the column.<br>\n",
    "That's the importance of good naming conventions.\n"
   ]
  },
  {
   "cell_type": "markdown",
   "id": "3527e14b-cc9e-4a45-aad9-e64f89035abd",
   "metadata": {},
   "source": [
    "### E.1 Filtering Columns"
   ]
  },
  {
   "cell_type": "code",
   "execution_count": null,
   "id": "a41d1ac8-91d3-4d05-b5a3-855283fc38d3",
   "metadata": {},
   "outputs": [],
   "source": [
    "dataframe.ride_id          # Get ride_id column"
   ]
  },
  {
   "cell_type": "code",
   "execution_count": null,
   "id": "f3527749-fbe1-4e2a-b3fc-8b21758a5071",
   "metadata": {},
   "outputs": [],
   "source": [
    "dataframe.member_casual    # Get member_casual column"
   ]
  },
  {
   "cell_type": "code",
   "execution_count": null,
   "id": "3c5e34cc-5aa6-44dd-adce-49d9a3a7a8bb",
   "metadata": {},
   "outputs": [],
   "source": [
    "# If you have columns with white space on the name, use this:\n",
    "dataframe['Example Colum']"
   ]
  },
  {
   "cell_type": "markdown",
   "id": "21174eec-8239-481e-a3ae-ce3d73751b61",
   "metadata": {},
   "source": [
    "### E.2 Filtering Multiple Columns"
   ]
  },
  {
   "cell_type": "code",
   "execution_count": null,
   "id": "4c99ae20-ef64-4c8f-9d7a-b4d2f28c711e",
   "metadata": {},
   "outputs": [],
   "source": [
    "dataframe[['ride_id', 'member_casual']]"
   ]
  },
  {
   "cell_type": "markdown",
   "id": "ea63a780-ba81-48c0-b5ef-92c50374d2b2",
   "metadata": {},
   "source": [
    "### E.3 Filtering Uniques"
   ]
  },
  {
   "cell_type": "code",
   "execution_count": null,
   "id": "7ca1bf77-bf38-41b0-a92c-93f3f524d61b",
   "metadata": {},
   "outputs": [],
   "source": [
    "dataframe.ride_id.unique()   # Only show uniques (no duplicated) values in a column"
   ]
  },
  {
   "cell_type": "markdown",
   "id": "7c8907e5-56ea-434e-ad4a-8b45efecb155",
   "metadata": {},
   "source": [
    "### E.4 Filtering Rows"
   ]
  },
  {
   "cell_type": "code",
   "execution_count": null,
   "id": "f8660c86-44a1-40a3-9842-8da0b841d8d9",
   "metadata": {},
   "outputs": [],
   "source": [
    "# Filter rows that only has 'HQ QR'\n",
    "\n",
    "dataframe[dataframe.start_station_name == 'HQ QR']"
   ]
  },
  {
   "cell_type": "markdown",
   "id": "2c84776f-214d-4da2-ad21-d2f487d7ced1",
   "metadata": {},
   "source": [
    "### E.5 Filtering Multiple Rows With Condition Formating"
   ]
  },
  {
   "cell_type": "code",
   "execution_count": null,
   "id": "0444b793-6546-4c42-aac1-9150238de7e7",
   "metadata": {},
   "outputs": [],
   "source": [
    "# Filter rows that has 'HQ QR' & 'member' on selected columns\n",
    "\n",
    "dataframe[(dataframe.start_station_name == 'HQ QR') & (dataframe.member_casual == 'member')]"
   ]
  },
  {
   "cell_type": "markdown",
   "id": "b4110cfb-1710-42ee-a166-a07fe46cf09f",
   "metadata": {},
   "source": [
    "---\n",
    "# F. Indexing"
   ]
  },
  {
   "cell_type": "markdown",
   "id": "df76de93-f04d-4413-8ee3-a4188769b4ca",
   "metadata": {
    "tags": []
   },
   "source": [
    "### F.1 Indexing with iloc\n",
    "**iloc** will enable to select a specific row, range of rows or list of frows using the index ID (integer)<br>\n",
    "See Docs: https://pandas.pydata.org/docs/reference/api/pandas.DataFrame.iloc.html?highlight=iloc#pandas.DataFrame.iloc"
   ]
  },
  {
   "cell_type": "code",
   "execution_count": null,
   "id": "d31a9bcb-997e-44b6-af63-5c81036cfe31",
   "metadata": {},
   "outputs": [],
   "source": [
    "dataframe.iloc[15]      # Shows all data from row 14"
   ]
  },
  {
   "cell_type": "code",
   "execution_count": null,
   "id": "32db9ed7-6cd2-4d8e-97bf-083931b99627",
   "metadata": {},
   "outputs": [],
   "source": [
    "dataframe.iloc[15, 0]   # Shows data on row 14 and column 0"
   ]
  },
  {
   "cell_type": "code",
   "execution_count": null,
   "id": "6b6a76c8-bbe6-4449-abe6-ff00173ee16e",
   "metadata": {},
   "outputs": [],
   "source": [
    "dataframe.iloc[15:20]   # Getting a range of specific rows"
   ]
  },
  {
   "cell_type": "markdown",
   "id": "7f1981b5-ce0c-41c2-99ba-2007aafb0974",
   "metadata": {},
   "source": [
    "### F.2 Indexing with loc\n",
    "**loc** will enable to index by user keyword, and not integers."
   ]
  },
  {
   "cell_type": "code",
   "execution_count": null,
   "id": "cf4fdbd2-2443-4efb-a68a-8134956b36d4",
   "metadata": {},
   "outputs": [],
   "source": [
    "# Create a copy of all data into a new variable.\n",
    "# We will make rideable_type our index, then we filter it with loc\n",
    "\n",
    "rideable_type = dataframe.copy()\n",
    "rideable_type.set_index('rideable_type', inplace=True)"
   ]
  },
  {
   "cell_type": "code",
   "execution_count": null,
   "id": "103b4144-7c6b-4ed5-ae80-7f03c02ff024",
   "metadata": {},
   "outputs": [],
   "source": [
    "rideable_type.head()"
   ]
  },
  {
   "cell_type": "markdown",
   "id": "3f4e117c-5437-435b-bf89-e8f56a8cdfdf",
   "metadata": {},
   "source": [
    "---\n",
    "# G. Update Dataframe"
   ]
  },
  {
   "cell_type": "markdown",
   "id": "b9ce8621-8074-46be-94f3-9966b3725f89",
   "metadata": {},
   "source": [
    "### G.1 Drop Missing Data\n",
    "See docs: https://pandas.pydata.org/docs/reference/api/pandas.DataFrame.drop.html?highlight=drop#pandas.DataFrame.drop"
   ]
  },
  {
   "cell_type": "code",
   "execution_count": null,
   "id": "ac6cb86b-b4c1-47ff-bbe4-de38bf898f85",
   "metadata": {},
   "outputs": [],
   "source": [
    "# Check for nulls on the dataframe first:\n",
    "dataframe.isnull().sum()"
   ]
  },
  {
   "cell_type": "code",
   "execution_count": null,
   "id": "32e2251a-be2f-4127-ad11-c88ef73ff0c0",
   "metadata": {},
   "outputs": [],
   "source": [
    "# Drop all the rows that has missing values:\n",
    "dataframe.dropna(inplace=True)"
   ]
  },
  {
   "cell_type": "markdown",
   "id": "5274be38-db22-4fce-b06b-1adec88df2d6",
   "metadata": {},
   "source": [
    "### G.2 Drop Columns"
   ]
  },
  {
   "cell_type": "code",
   "execution_count": null,
   "id": "8d1b3a39-0866-4af6-8018-8d9623b1181f",
   "metadata": {},
   "outputs": [],
   "source": [
    "# axis=1 means COLUMN, axis=0 means ROW\n",
    "\n",
    "dataframe.drop('name_of_column', axis=1)"
   ]
  },
  {
   "cell_type": "markdown",
   "id": "040e16e4-283a-4330-bf05-298a7f3a3d15",
   "metadata": {},
   "source": [
    "### G.2 Drop Duplicates"
   ]
  },
  {
   "cell_type": "code",
   "execution_count": null,
   "id": "a6349253-30cd-4fc2-83e7-f481d80400ce",
   "metadata": {},
   "outputs": [],
   "source": [
    "# Removes duplicate rows based on all columns\n",
    "dataframe.drop_duplicates()"
   ]
  },
  {
   "cell_type": "code",
   "execution_count": null,
   "id": "8ec394dc-b85f-45d4-8e58-49eb126410fc",
   "metadata": {},
   "outputs": [],
   "source": [
    "#To remove duplicates on specific column(s), use subset.\n",
    "dataframe.drop_duplicates(subset=['column_name'])"
   ]
  },
  {
   "cell_type": "markdown",
   "id": "fd5995e8-e59d-432e-b064-387654540157",
   "metadata": {},
   "source": [
    "### G.3 Creating Columns (Sum)"
   ]
  },
  {
   "cell_type": "code",
   "execution_count": null,
   "id": "8de13307-d17c-4f2e-9a97-d790e4f2070c",
   "metadata": {},
   "outputs": [],
   "source": [
    "# Create new column summing: start_lat + end_lat\n",
    "\n",
    "dataframe['new_column'] = dataframe.start_lat + dataframe.end_lat\n",
    "dataframe.head()"
   ]
  },
  {
   "cell_type": "markdown",
   "id": "2467a12c-b32b-4b9c-ac4b-d21864dad381",
   "metadata": {},
   "source": [
    "### G.4 Merge Columns"
   ]
  },
  {
   "cell_type": "code",
   "execution_count": null,
   "id": "53f5fe5c-92bb-4685-9680-90e72986d963",
   "metadata": {},
   "outputs": [],
   "source": [
    "dataframe.merge(second_dataframe, left_on='lkey', right_on='rkey')"
   ]
  },
  {
   "cell_type": "markdown",
   "id": "46944e3c-322c-4ae4-910e-65a9efbcbd07",
   "metadata": {},
   "source": [
    "### G.5 Merge Multiple Dataframes (Ex: Multiple CSV, Excels)"
   ]
  },
  {
   "cell_type": "markdown",
   "id": "a118506b-2b1f-45ed-b3ac-19f2b3def677",
   "metadata": {},
   "source": [
    "Merge columns with other DataFrame either on index or on a key column.<br>\n",
    "Efficiently merge multiple DataFrame objects by index at once by **passing a list**.<br>\n",
    "See documentation: https://pandas.pydata.org/docs/reference/api/pandas.DataFrame.merge.html?highlight=merge#pandas.DataFrame.merge"
   ]
  },
  {
   "cell_type": "markdown",
   "id": "56989501-018b-467b-820f-8a9e95e13c7f",
   "metadata": {},
   "source": [
    "#### Join Two Dataframes"
   ]
  },
  {
   "cell_type": "markdown",
   "id": "7b7acbb2-5d6a-4516-b52c-3d1542686615",
   "metadata": {},
   "source": [
    "See documentation: https://pandas.pydata.org/docs/reference/api/pandas.DataFrame.join.html#pandas.DataFrame.join"
   ]
  },
  {
   "cell_type": "code",
   "execution_count": null,
   "id": "81321a66-244a-4ee4-bbaf-b547c0b0e323",
   "metadata": {},
   "outputs": [],
   "source": [
    "dataframe.join(second_dataframe, lsuffix='chage_index', rsuffix='change_index')  # Join using the index (left join on default)"
   ]
  },
  {
   "cell_type": "markdown",
   "id": "0829fa81-3849-473f-824a-0a564704d903",
   "metadata": {},
   "source": [
    "#### Join List of Dataframes"
   ]
  },
  {
   "cell_type": "code",
   "execution_count": null,
   "id": "4edef4d5-65a2-44f6-9162-4c6dfb4ab166",
   "metadata": {},
   "outputs": [],
   "source": [
    "df.join(list_of_dataframes.set_index('key'), on='key') # Save list into a new variable (easy to manipulate)"
   ]
  },
  {
   "cell_type": "markdown",
   "id": "8c9f7457-f271-4b5b-828a-921f2e8668d7",
   "metadata": {},
   "source": [
    "### G.6 Update An Entire Column Value"
   ]
  },
  {
   "cell_type": "code",
   "execution_count": null,
   "id": "b6d11cf0-b388-4567-9a1e-5d5a1b83ba26",
   "metadata": {},
   "outputs": [],
   "source": [
    "dataframe.column_name = 100  # Update all colum values to 100\n",
    "dataframe.head()"
   ]
  },
  {
   "cell_type": "markdown",
   "id": "a5f42d5a-9f1b-4934-b83c-be028b87fff9",
   "metadata": {},
   "source": [
    "### G.7 Update An Single Column Value"
   ]
  },
  {
   "cell_type": "code",
   "execution_count": null,
   "id": "0cb24abd-d1a8-4558-9f46-c280b5534f2b",
   "metadata": {},
   "outputs": [],
   "source": [
    "# Change a single column value: [0, -1] --> row id, column id (last column)\n",
    "\n",
    "dataframe.iloc[0, -1] = 500  # Update a single column to 500\n",
    "dataframe.head()"
   ]
  },
  {
   "cell_type": "markdown",
   "id": "92b26797-cdf8-442f-b599-ac30f0449cca",
   "metadata": {},
   "source": [
    "### G.8 Rename Single & Multiple Column Name"
   ]
  },
  {
   "cell_type": "code",
   "execution_count": null,
   "id": "b9c01baf-f3e9-4289-9018-9f4a26403300",
   "metadata": {},
   "outputs": [],
   "source": [
    "dataframe.rename(columns={\"A\": \"a\", \"B\": \"c\"})"
   ]
  },
  {
   "cell_type": "markdown",
   "id": "1af1cdaf-2bb4-4e14-9e0b-ca67318b18e8",
   "metadata": {},
   "source": [
    "### G.9 Rename Values on Rows\n",
    "**Conditions:**<br>\n",
    "If the name is equal to ‘Bill,’ then assign the value of ‘Match’"
   ]
  },
  {
   "cell_type": "code",
   "execution_count": null,
   "id": "3bdb2605-efb8-4cfb-8118-ab089c8f7c79",
   "metadata": {},
   "outputs": [],
   "source": [
    "dataframe.loc[dataframe['column_a'] == 'Bill', 'column_a'] = 'Match'"
   ]
  },
  {
   "cell_type": "markdown",
   "id": "2d7bfd93-8121-45db-ba6f-588b64a1de69",
   "metadata": {},
   "source": [
    "### G.10 Move Columns (Re-Organize)"
   ]
  },
  {
   "cell_type": "code",
   "execution_count": null,
   "id": "d842c8f1-42f0-42bc-978b-06f50e8b2251",
   "metadata": {},
   "outputs": [],
   "source": [
    "dataframe = dataframe[['A', 'B', 'C']] # Example: dataframe = dataframe[['C', 'B', 'A']]"
   ]
  },
  {
   "cell_type": "markdown",
   "id": "216c722a-7222-46cc-b42a-202a2e408588",
   "metadata": {},
   "source": [
    "---\n",
    "# H. Delete / Output"
   ]
  },
  {
   "cell_type": "markdown",
   "id": "92eb2041-4dc8-40a6-a178-dcb2439a56c3",
   "metadata": {},
   "source": [
    "#### H.1 Output To Excel\n",
    "See docs: https://pandas.pydata.org/docs/reference/api/pandas.DataFrame.to_excel.html"
   ]
  },
  {
   "cell_type": "code",
   "execution_count": null,
   "id": "bfba549e-4959-4ad2-8f27-7fc504513dca",
   "metadata": {},
   "outputs": [],
   "source": [
    "dataframe.to_excel('Name_Of_File.xls')"
   ]
  },
  {
   "cell_type": "markdown",
   "id": "5c90298f-4143-4580-976d-b154081b90f9",
   "metadata": {},
   "source": [
    "#### H.2 Output To CSV\n",
    "See docs: https://pandas.pydata.org/docs/reference/api/pandas.DataFrame.to_csv.html?highlight=to_#pandas.DataFrame.to_csv"
   ]
  },
  {
   "cell_type": "code",
   "execution_count": null,
   "id": "20e55b75-7b43-479e-b04c-fa2d5dc50eb3",
   "metadata": {},
   "outputs": [],
   "source": [
    "dataframe.to_csv('Name_Of_File.csv')"
   ]
  },
  {
   "cell_type": "markdown",
   "id": "827cb55a-bee8-4401-a29a-2f420e33085c",
   "metadata": {},
   "source": [
    "#### H.3 Output To HTML"
   ]
  },
  {
   "cell_type": "code",
   "execution_count": null,
   "id": "b4c9e68e-cbdc-45f5-80fa-40bf76b7dbe6",
   "metadata": {},
   "outputs": [],
   "source": [
    "dataframe.to_html('Name_Of_File.csv')"
   ]
  },
  {
   "cell_type": "markdown",
   "id": "b3dbb52a-b012-4eef-89a0-55b4dacd0327",
   "metadata": {},
   "source": [
    "#### H.4 Output To JSON"
   ]
  },
  {
   "cell_type": "code",
   "execution_count": null,
   "id": "5acd9e81-1c2a-4e09-96f8-227cd7aadff0",
   "metadata": {},
   "outputs": [],
   "source": [
    "dataframe.to_json('Name_Of_File.csv')"
   ]
  },
  {
   "cell_type": "markdown",
   "id": "8e1907d6-54ad-40c4-871c-99e1280b6713",
   "metadata": {},
   "source": [
    "#### H.5 Delete Dataframe"
   ]
  },
  {
   "cell_type": "code",
   "execution_count": null,
   "id": "e6d1cc3d-85d3-4c2d-a9de-838b971c5b1c",
   "metadata": {},
   "outputs": [],
   "source": [
    "del dataframe"
   ]
  }
 ],
 "metadata": {
  "kernelspec": {
   "display_name": "Python 3 (ipykernel)",
   "language": "python",
   "name": "python3"
  },
  "language_info": {
   "codemirror_mode": {
    "name": "ipython",
    "version": 3
   },
   "file_extension": ".py",
   "mimetype": "text/x-python",
   "name": "python",
   "nbconvert_exporter": "python",
   "pygments_lexer": "ipython3",
   "version": "3.9.12"
  }
 },
 "nbformat": 4,
 "nbformat_minor": 5
}
